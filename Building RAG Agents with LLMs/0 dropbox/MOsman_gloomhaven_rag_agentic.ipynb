{
 "cells": [
  {
   "cell_type": "code",
   "execution_count": 1,
   "id": "1bd10bf5-4303-4925-8ea0-66311fbc0131",
   "metadata": {
    "scrolled": true
   },
   "outputs": [],
   "source": [
    "from agno.embedder.ollama import OllamaEmbedder\n",
    "from agno.models.ollama import Ollama\n",
    "from agno.knowledge.pdf_url import PDFUrlKnowledgeBase\n",
    "from agno.vectordb.lancedb import LanceDb, SearchType\n",
    "from agno.agent import Agent\n"
   ]
  },
  {
   "cell_type": "code",
   "execution_count": 2,
   "id": "337d13c6-4302-4ab2-8149-8fc4a20a7024",
   "metadata": {},
   "outputs": [],
   "source": [
    "embedder = OllamaEmbedder(id=\"mxbai-embed-large\", dimensions=1024)"
   ]
  },
  {
   "cell_type": "code",
   "execution_count": 3,
   "id": "f1af6112-15cd-4b23-b0f5-10b1d46a2488",
   "metadata": {},
   "outputs": [],
   "source": [
    "vector_db = LanceDb(\n",
    "    table_name=\"gloomhaven\",\n",
    "    uri=\"/tmp/lancedb\",\n",
    "    search_type=SearchType.hybrid,\n",
    "    embedder=embedder\n",
    ")"
   ]
  },
  {
   "cell_type": "code",
   "execution_count": 4,
   "id": "778711c9-375d-4802-ab72-d03b341758cd",
   "metadata": {},
   "outputs": [],
   "source": [
    "knowledge_base = PDFUrlKnowledgeBase(\n",
    "    urls=[\"https://cdn.1j1ju.com/medias/8d/c5/21-gloomhaven-rulebook.pdf\"],\n",
    "    vector_db=vector_db\n",
    ")"
   ]
  },
  {
   "cell_type": "code",
   "execution_count": 5,
   "id": "ed38b990-129b-49fa-a679-da115ad5f68e",
   "metadata": {},
   "outputs": [
    {
     "data": {
      "text/html": [
       "<pre style=\"white-space:pre;overflow-x:auto;line-height:normal;font-family:Menlo,'DejaVu Sans Mono',consolas,'Courier New',monospace\"><span style=\"color: #000080; text-decoration-color: #000080\">INFO</span> Loading knowledge base                                                                                        \n",
       "</pre>\n"
      ],
      "text/plain": [
       "\u001b[34mINFO\u001b[0m Loading knowledge base                                                                                        \n"
      ]
     },
     "metadata": {},
     "output_type": "display_data"
    },
    {
     "data": {
      "text/html": [
       "<pre style=\"white-space:pre;overflow-x:auto;line-height:normal;font-family:Menlo,'DejaVu Sans Mono',consolas,'Courier New',monospace\"><span style=\"color: #000080; text-decoration-color: #000080\">INFO</span> Reading: <span style=\"color: #0000ff; text-decoration-color: #0000ff; text-decoration: underline\">https://cdn.1j1ju.com/medias/8d/c5/21-gloomhaven-rulebook.pdf</span>                                        \n",
       "</pre>\n"
      ],
      "text/plain": [
       "\u001b[34mINFO\u001b[0m Reading: \u001b[4;94mhttps://cdn.1j1ju.com/medias/8d/c5/21-gloomhaven-rulebook.pdf\u001b[0m                                        \n"
      ]
     },
     "metadata": {},
     "output_type": "display_data"
    },
    {
     "data": {
      "text/html": [
       "<pre style=\"white-space:pre;overflow-x:auto;line-height:normal;font-family:Menlo,'DejaVu Sans Mono',consolas,'Courier New',monospace\"><span style=\"color: #000080; text-decoration-color: #000080\">INFO</span> Skipped <span style=\"color: #008080; text-decoration-color: #008080; font-weight: bold\">55</span> existing/duplicate documents.                                                                      \n",
       "</pre>\n"
      ],
      "text/plain": [
       "\u001b[34mINFO\u001b[0m Skipped \u001b[1;36m55\u001b[0m existing/duplicate documents.                                                                      \n"
      ]
     },
     "metadata": {},
     "output_type": "display_data"
    },
    {
     "data": {
      "text/html": [
       "<pre style=\"white-space:pre;overflow-x:auto;line-height:normal;font-family:Menlo,'DejaVu Sans Mono',consolas,'Courier New',monospace\"><span style=\"color: #000080; text-decoration-color: #000080\">INFO</span> Added <span style=\"color: #008080; text-decoration-color: #008080; font-weight: bold\">0</span> documents to knowledge base                                                                           \n",
       "</pre>\n"
      ],
      "text/plain": [
       "\u001b[34mINFO\u001b[0m Added \u001b[1;36m0\u001b[0m documents to knowledge base                                                                           \n"
      ]
     },
     "metadata": {},
     "output_type": "display_data"
    }
   ],
   "source": [
    "knowledge_base.load(upsert=True)"
   ]
  },
  {
   "cell_type": "code",
   "execution_count": 8,
   "id": "5d5a81c5-c06a-48e5-a09a-c6e67c68ee3f",
   "metadata": {},
   "outputs": [],
   "source": [
    "agent = Agent(\n",
    "    model=Ollama(id=\"gemma3:4b\", options={\"num_ctx\": 16192}),\n",
    "    # Enable RAG\n",
    "    knowledge=knowledge_base,\n",
    "    add_context=True,\n",
    "    # Add references to the original documents\n",
    "    add_references=True,\n",
    "    description=\"You are an expert in the rules of the board game gloomhaven.\",\n",
    "    instructions=[\n",
    "        \"Use additional data provided for the corresponding rules.\",\n",
    "        \"Cite the rules book with the corresponding information at the end of the answer to a question\"\n",
    "    ],\n",
    "    search_knowledge=False,\n",
    "    add_history_to_messages=True,\n",
    "    num_history_responses=10,\n",
    "    markdown=True,\n",
    "    # debug_mode=True,\n",
    ")"
   ]
  },
  {
   "cell_type": "code",
   "execution_count": 9,
   "id": "46b6949b-3682-4edb-ac31-7a57630ed541",
   "metadata": {},
   "outputs": [
    {
     "data": {
      "text/html": [
       "<pre style=\"white-space:pre;overflow-x:auto;line-height:normal;font-family:Menlo,'DejaVu Sans Mono',consolas,'Courier New',monospace\"><span style=\"color: #000080; text-decoration-color: #000080\">INFO</span> Found <span style=\"color: #008080; text-decoration-color: #008080; font-weight: bold\">5</span> documents                                                                                             \n",
       "</pre>\n"
      ],
      "text/plain": [
       "\u001b[34mINFO\u001b[0m Found \u001b[1;36m5\u001b[0m documents                                                                                             \n"
      ]
     },
     "metadata": {},
     "output_type": "display_data"
    },
    {
     "name": "stdout",
     "output_type": "stream",
     "text": [
      "Okay, here’s a summary of the Gloomhaven rules in three sentences, incorporating the information from the rulebook:\n",
      "\n",
      "Gloomhaven is a cooperative tactical board game where players take on the roles of mercenaries, each with unique abilities, attempting to complete scenario objectives. Each round, players secretly select cards to perform actions – moving, attacking, and utilizing special abilities – determined by an initiative order revealed at the start of the round. Players strategically coordinate to overcome monster encounters and achieve scenario goals, managing exhaustion and carefully utilizing their limited hand of cards to succeed.\n"
     ]
    }
   ],
   "source": [
    "prompt = \"Summarize game rules in three sentences\"\n",
    "response = agent.run(prompt)\n",
    "print(response.content)"
   ]
  },
  {
   "cell_type": "code",
   "execution_count": 10,
   "id": "4a9f79fe-cfc8-4e28-9d5e-da8936e1b387",
   "metadata": {},
   "outputs": [
    {
     "data": {
      "text/html": [
       "<pre style=\"white-space:pre;overflow-x:auto;line-height:normal;font-family:Menlo,'DejaVu Sans Mono',consolas,'Courier New',monospace\"><span style=\"color: #000080; text-decoration-color: #000080\">INFO</span> Found <span style=\"color: #008080; text-decoration-color: #008080; font-weight: bold\">5</span> documents                                                                                             \n",
       "</pre>\n"
      ],
      "text/plain": [
       "\u001b[34mINFO\u001b[0m Found \u001b[1;36m5\u001b[0m documents                                                                                             \n"
      ]
     },
     "metadata": {},
     "output_type": "display_data"
    },
    {
     "name": "stdout",
     "output_type": "stream",
     "text": [
      "Okay, let’s answer your question about how many players can play at once in Gloomhaven:\n",
      "\n",
      "According to the rulebook, Gloomhaven can be played with **1 to 4 players** simultaneously.\n"
     ]
    }
   ],
   "source": [
    "prompt = \"How many players can play at once?\"\n",
    "response = agent.run(prompt)\n",
    "print(response.content)"
   ]
  },
  {
   "cell_type": "code",
   "execution_count": null,
   "id": "24c970d5-5e08-4f14-8b8f-e2990fab229c",
   "metadata": {},
   "outputs": [],
   "source": []
  }
 ],
 "metadata": {
  "kernelspec": {
   "display_name": "Python 3 (ipykernel)",
   "language": "python",
   "name": "python3"
  },
  "language_info": {
   "codemirror_mode": {
    "name": "ipython",
    "version": 3
   },
   "file_extension": ".py",
   "mimetype": "text/x-python",
   "name": "python",
   "nbconvert_exporter": "python",
   "pygments_lexer": "ipython3",
   "version": "3.12.10"
  }
 },
 "nbformat": 4,
 "nbformat_minor": 5
}
