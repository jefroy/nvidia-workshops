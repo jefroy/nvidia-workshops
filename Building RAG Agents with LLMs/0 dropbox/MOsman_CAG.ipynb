{
 "cells": [
  {
   "cell_type": "code",
   "execution_count": 1,
   "id": "c519b7ad-b908-42f8-bfb8-7b656e2b02fd",
   "metadata": {},
   "outputs": [],
   "source": [
    "from langchain_community.document_loaders import PyPDFLoader\n",
    "import requests\n",
    "from pathlib import Path\n",
    "import requests"
   ]
  },
  {
   "cell_type": "code",
   "execution_count": 2,
   "id": "3ada0d1f-85e3-4a5c-9088-701f089f9aea",
   "metadata": {},
   "outputs": [
    {
     "data": {
      "text/plain": [
       "753180"
      ]
     },
     "execution_count": 2,
     "metadata": {},
     "output_type": "execute_result"
    }
   ],
   "source": [
    "#find a online pdf with text that you want to analyze. I'm using Romeo & Juliet for example\n",
    "url = \"https://folger-main-site-assets.s3.amazonaws.com/uploads/2022/11/romeo-and-juliet_PDF_FolgerShakespeare.pdf\"\n",
    "#give the file a name\n",
    "pdf_name = \"romeo_and_juliet.pdf\"\n",
    "filename = Path(pdf_name)\n",
    "response = requests.get(url)\n",
    "filename.write_bytes(response.content)"
   ]
  },
  {
   "cell_type": "code",
   "execution_count": 3,
   "id": "9b38cc79-7006-427c-8beb-3f27a4909e15",
   "metadata": {},
   "outputs": [],
   "source": [
    "# Load and read PDF\n",
    "def load_pdf_content(pdf_path):\n",
    "    loader = PyPDFLoader(pdf_path)\n",
    "    documents = loader.load()\n",
    "    return \" \".join([doc.page_content for doc in documents])"
   ]
  },
  {
   "cell_type": "code",
   "execution_count": 4,
   "id": "a0da055f-8172-4460-bc61-4b10438ef9bb",
   "metadata": {},
   "outputs": [],
   "source": [
    "# Use Ollama to query with PDF context. Make sure to use ollama pull to get the model first. Here I'm using Google's gemma3 model with 4 billion parameters\n",
    "# using terminal, after installing ollama the following code will get you this model: ollama pull gemma3:4b\n",
    "\n",
    "def query_with_cag(context, query):\n",
    "    prompt = f\"Context:\\n{context}\\n\\nQuery: {query}\\nAnswer:\"\n",
    "    response = requests.post(\n",
    "        \"http://localhost:11434/api/generate\",\n",
    "        json={\n",
    "            \"model\": \"gemma3:4b\",\n",
    "            \"prompt\": prompt,\n",
    "            \"temperature\": 0.2,\n",
    "            \"stream\": False\n",
    "        }\n",
    "    )\n",
    "    return response.json()[\"response\"].strip()"
   ]
  },
  {
   "cell_type": "code",
   "execution_count": 5,
   "id": "79d7a915-177d-4547-8d84-b6f7786b015a",
   "metadata": {},
   "outputs": [],
   "source": [
    "# Load knowledge base from PDF\n",
    "knowledge_base = load_pdf_content(pdf_name)"
   ]
  },
  {
   "cell_type": "code",
   "execution_count": 6,
   "id": "1ca4367e-a59e-43af-882c-b5a5f8ecdeb0",
   "metadata": {},
   "outputs": [
    {
     "name": "stdout",
     "output_type": "stream",
     "text": [
      "\n"
     ]
    },
    {
     "name": "stdin",
     "output_type": "stream",
     "text": [
      "What would you like to ask? (type 'exit' to quit):  who wrote this story?\n"
     ]
    },
    {
     "name": "stdout",
     "output_type": "stream",
     "text": [
      "Answer: William Shakespeare\n",
      "\n"
     ]
    },
    {
     "name": "stdin",
     "output_type": "stream",
     "text": [
      "What would you like to ask? (type 'exit' to quit):  what time period and location is the story set in?\n"
     ]
    },
    {
     "name": "stdout",
     "output_type": "stream",
     "text": [
      "Answer: The story is set in Verona, Italy. The exact time period isn't explicitly stated, but it’s generally understood to be the early 16th century – approximately 1597, the year Shakespeare’s play was first performed.\n",
      "\n"
     ]
    },
    {
     "name": "stdin",
     "output_type": "stream",
     "text": [
      "What would you like to ask? (type 'exit' to quit):  who are the main characters?\n"
     ]
    },
    {
     "name": "stdout",
     "output_type": "stream",
     "text": [
      "Answer: The main characters in this scene (Act 5, Scene 3 of *Romeo and Juliet*) are:\n",
      "\n",
      "*   **Romeo:** A young Montague.\n",
      "*   **Juliet:** A young Capulet.\n",
      "*   **The Prince:** The ruler of Verona.\n",
      "*   **Friar John:** A Franciscan friar.\n",
      "*   **The Apothecary:** A drugseller.\n",
      "*   **Capulet:** Juliet’s father.\n",
      "*   **Montague:** Romeo’s father.\n",
      "\n"
     ]
    },
    {
     "name": "stdin",
     "output_type": "stream",
     "text": [
      "What would you like to ask? (type 'exit' to quit):  summarize the story\n"
     ]
    },
    {
     "name": "stdout",
     "output_type": "stream",
     "text": [
      "Answer: Here’s a summary of the story of Romeo and Juliet, Act 5, Scene 3:\n",
      "\n",
      "Romeo and Juliet’s love story tragically culminates in death. Following a series of unfortunate events – Tybalt’s death, Romeo’s banishment, and Juliet’s forced engagement to Paris – Romeo and Juliet attempt to reunite. To avoid this, Juliet takes a sleeping potion to appear dead, hoping Romeo will be alerted and they can escape.\n",
      "\n",
      "However, Friar John fails to deliver the letter explaining Juliet’s plan to Romeo. Romeo, believing Juliet is truly dead, returns to Verona and enters Juliet’s tomb. He drinks poison and dies beside her. When Juliet awakens and discovers Romeo’s lifeless body, she takes his dagger and stabs herself to death. The play ends with the discovery of the two lovers, highlighting the devastating consequences of their families' feud.\n",
      "\n"
     ]
    },
    {
     "name": "stdin",
     "output_type": "stream",
     "text": [
      "What would you like to ask? (type 'exit' to quit):  what is this story about?\n"
     ]
    },
    {
     "name": "stdout",
     "output_type": "stream",
     "text": [
      "Answer: This story is about the tragic love of Romeo and Juliet, two young lovers from feuding families, the Montagues and Capulets. Their passionate love is ultimately destroyed by the longstanding animosity between their families, leading to a series of unfortunate events, including the deaths of several key characters and, ultimately, their own demise. It’s a story of forbidden love, fate, and the destructive power of hatred.\n",
      "\n"
     ]
    },
    {
     "name": "stdin",
     "output_type": "stream",
     "text": [
      "What would you like to ask? (type 'exit' to quit):  exit\n"
     ]
    },
    {
     "name": "stdout",
     "output_type": "stream",
     "text": [
      "Goodbye!\n"
     ]
    }
   ],
   "source": [
    "# let's start asking the AI questions, type exit to stop\n",
    "while True:\n",
    "    print()\n",
    "    user_question = input(\"What would you like to ask? (type 'exit' to quit): \").strip()\n",
    "    \n",
    "    if user_question.lower() in ['exit', 'quit']:\n",
    "        print(\"Goodbye!\")\n",
    "        break\n",
    "\n",
    "    response = query_with_cag(knowledge_base, user_question)\n",
    "    print(\"Answer:\", response)\n"
   ]
  },
  {
   "cell_type": "code",
   "execution_count": null,
   "id": "8192722f-b00e-42b1-9640-10808d085703",
   "metadata": {},
   "outputs": [],
   "source": []
  }
 ],
 "metadata": {
  "kernelspec": {
   "display_name": "Python [conda env:base] *",
   "language": "python",
   "name": "conda-base-py"
  },
  "language_info": {
   "codemirror_mode": {
    "name": "ipython",
    "version": 3
   },
   "file_extension": ".py",
   "mimetype": "text/x-python",
   "name": "python",
   "nbconvert_exporter": "python",
   "pygments_lexer": "ipython3",
   "version": "3.13.5"
  }
 },
 "nbformat": 4,
 "nbformat_minor": 5
}
